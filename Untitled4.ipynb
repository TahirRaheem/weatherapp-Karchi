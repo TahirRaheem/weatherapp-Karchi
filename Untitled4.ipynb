{
  "nbformat": 4,
  "nbformat_minor": 0,
  "metadata": {
    "colab": {
      "provenance": [],
      "authorship_tag": "ABX9TyP/g73YQGxNHey6tO6bVfsh",
      "include_colab_link": true
    },
    "kernelspec": {
      "name": "python3",
      "display_name": "Python 3"
    },
    "language_info": {
      "name": "python"
    }
  },
  "cells": [
    {
      "cell_type": "markdown",
      "metadata": {
        "id": "view-in-github",
        "colab_type": "text"
      },
      "source": [
        "<a href=\"https://colab.research.google.com/github/TahirRaheem/weatherapp-Karchi/blob/main/Untitled4.ipynb\" target=\"_parent\"><img src=\"https://colab.research.google.com/assets/colab-badge.svg\" alt=\"Open In Colab\"/></a>"
      ]
    },
    {
      "cell_type": "code",
      "execution_count": 2,
      "metadata": {
        "colab": {
          "base_uri": "https://localhost:8080/"
        },
        "id": "EGKSm4Q0Sz8A",
        "outputId": "592de64b-71f9-4f18-ad5e-7d30445add50"
      },
      "outputs": [
        {
          "output_type": "stream",
          "name": "stdout",
          "text": [
            "City: Karachi\n",
            "Temperature: 30.9°C\n",
            "Weather: clear sky\n",
            "Humidity: 40%\n"
          ]
        }
      ],
      "source": [
        "import requests\n",
        "\n",
        "def get_weather(city, api_key):\n",
        "    url = f\"http://api.openweathermap.org/data/2.5/weather?q={city}&appid={api_key}&units=metric\"\n",
        "\n",
        "    response = requests.get(url)\n",
        "    if response.status_code == 200:\n",
        "        data = response.json()\n",
        "\n",
        "        # Extract relevant information\n",
        "        city_name = data['name']\n",
        "        temperature = data['main']['temp']\n",
        "        weather_description = data['weather'][0]['description']\n",
        "        humidity = data['main']['humidity']\n",
        "\n",
        "        # Print weather information\n",
        "        print(f\"City: {city_name}\")\n",
        "        print(f\"Temperature: {temperature}°C\")\n",
        "        print(f\"Weather: {weather_description}\")\n",
        "        print(f\"Humidity: {humidity}%\")\n",
        "    else:\n",
        "        print(\"Error:\", response.status_code, response.text)\n",
        "\n",
        "# Replace 'YOUR_API_KEY' with your actual API key\n",
        "api_key = \"4281008c6ac34658169dfa78d73218d5\"\n",
        "city = \"Karachi\"\n",
        "get_weather(city, api_key)\n"
      ]
    }
  ]
}